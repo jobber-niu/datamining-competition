{
 "cells": [
  {
   "cell_type": "markdown",
   "id": "e78e88cb",
   "metadata": {},
   "source": [
    "# 导入数据熟悉数据"
   ]
  },
  {
   "cell_type": "markdown",
   "id": "8efd3616",
   "metadata": {},
   "source": [
    "# 数据清洗和整理"
   ]
  },
  {
   "cell_type": "markdown",
   "id": "11dfe4bf",
   "metadata": {},
   "source": [
    "# 分析指标和可视化"
   ]
  },
  {
   "cell_type": "markdown",
   "id": "73adb955",
   "metadata": {},
   "source": []
  }
 ],
 "metadata": {
  "kernelspec": {
   "display_name": "Python 3 (ipykernel)",
   "language": "python",
   "name": "python3"
  },
  "language_info": {
   "codemirror_mode": {
    "name": "ipython",
    "version": 3
   },
   "file_extension": ".py",
   "mimetype": "text/x-python",
   "name": "python",
   "nbconvert_exporter": "python",
   "pygments_lexer": "ipython3",
   "version": "3.9.7"
  }
 },
 "nbformat": 4,
 "nbformat_minor": 5
}
