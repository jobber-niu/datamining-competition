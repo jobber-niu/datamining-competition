{
 "cells": [
  {
   "cell_type": "markdown",
   "id": "0a68695d",
   "metadata": {},
   "source": [
    "# 了解数据"
   ]
  },
  {
   "cell_type": "markdown",
   "id": "fc3532c8",
   "metadata": {},
   "source": [
    " order_date        日期，有些天都多个订单，object形式\n",
    " sales_region_code   销售地区，5个\n",
    " item_code         产品编号，应该可以代表产品\n",
    " first_cate_code     大类编号\n",
    " second_cate_code    小类编号\n",
    " sales_chan_name    销售渠道，线上和线下，object形式，可赋予标签0/1\n",
    " 定性数据\n",
    " \n",
    " \n",
    " item_price       销售价格，最低有1，最高有47911，属于有异常值\n",
    " ord_qty         销售数量，最低有1，最高有12480\n",
    " 定量数据\n",
    " \n",
    " 存在重复值"
   ]
  },
  {
   "cell_type": "markdown",
   "id": "3588da8c",
   "metadata": {},
   "source": [
    "异常值处理方法，箱线图剔除方法\n",
    "excel进行条件剔除，替换，替换可用平均值替换，用前值或后值替换，用什么拉格朗日插值法替换"
   ]
  },
  {
   "cell_type": "markdown",
   "id": "de28284a",
   "metadata": {},
   "source": [
    "count    59769.000000\n",
    "mean      1074.334474\n",
    "std        966.881714\n",
    "min          1.000000\n",
    "25%        597.000000\n",
    "50%        880.280000\n",
    "75%       1291.000000\n",
    "max      47911.000000\n",
    "Name: item_price, dtype: float64\n",
    "\n",
    "count    59769.000000\n",
    "mean        91.443139\n",
    "std        195.407986\n",
    "min          1.000000\n",
    "25%         10.000000\n",
    "50%         29.000000\n",
    "75%        101.000000\n",
    "max      12480.000000\n",
    "Name: ord_qty, dtype: float64"
   ]
  },
  {
   "cell_type": "markdown",
   "id": "52c66ce6",
   "metadata": {},
   "source": [
    "# 数据处理"
   ]
  },
  {
   "cell_type": "markdown",
   "id": "182141d1",
   "metadata": {},
   "source": [
    "groupby数据分组：\n",
    "同一天的分组\n",
    "同一地区的分组\n",
    "产品大类的分组(意义何在？)\n",
    "销售模式的分组"
   ]
  },
  {
   "cell_type": "markdown",
   "id": "809d017a",
   "metadata": {},
   "source": [
    "建立数据索引（保留）"
   ]
  },
  {
   "cell_type": "markdown",
   "id": "8ca35a53",
   "metadata": {},
   "source": [
    "时序数据可视化\n",
    "figure（figsize）\n",
    "subplot（多窗口画布）\n",
    "\n",
    "基于seaborn绘制图形\n"
   ]
  },
  {
   "cell_type": "markdown",
   "id": "074b1cf8",
   "metadata": {},
   "source": [
    "建立预测模型，已知时序图\n",
    "如果添加影响因素，影响权重"
   ]
  },
  {
   "cell_type": "markdown",
   "id": "762cc694",
   "metadata": {},
   "source": [
    "# 分组之后做什么"
   ]
  },
  {
   "cell_type": "markdown",
   "id": "a59cf47c",
   "metadata": {},
   "source": [
    "主要变量是价格和销量\n",
    "分析不同组的统计指标，进行排序、绘图\n",
    "\n",
    "关于数据模型的建立\n"
   ]
  },
  {
   "cell_type": "markdown",
   "id": "30fb0f4d",
   "metadata": {},
   "source": [
    "# 输出"
   ]
  },
  {
   "cell_type": "markdown",
   "id": "a4fb3e44",
   "metadata": {},
   "source": [
    "预测模型\n",
    "预测数据（日月年三个维度，有点不太明白-困难）"
   ]
  },
  {
   "cell_type": "markdown",
   "id": "d082e25d",
   "metadata": {},
   "source": []
  },
  {
   "cell_type": "markdown",
   "id": "dd32e8da",
   "metadata": {},
   "source": []
  },
  {
   "cell_type": "markdown",
   "id": "782b1466",
   "metadata": {},
   "source": []
  },
  {
   "cell_type": "markdown",
   "id": "8d6ca097",
   "metadata": {},
   "source": []
  }
 ],
 "metadata": {
  "kernelspec": {
   "display_name": "Python 3 (ipykernel)",
   "language": "python",
   "name": "python3"
  },
  "language_info": {
   "codemirror_mode": {
    "name": "ipython",
    "version": 3
   },
   "file_extension": ".py",
   "mimetype": "text/x-python",
   "name": "python",
   "nbconvert_exporter": "python",
   "pygments_lexer": "ipython3",
   "version": "3.9.7"
  }
 },
 "nbformat": 4,
 "nbformat_minor": 5
}
