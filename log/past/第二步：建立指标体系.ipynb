{
 "cells": [
  {
   "cell_type": "markdown",
   "id": "71e608ec",
   "metadata": {},
   "source": [
    "# （什么是指标体系）业务目标"
   ]
  },
  {
   "cell_type": "markdown",
   "id": "e527c4c8",
   "metadata": {},
   "source": [
    "1.哪个地区购买力高，是在购买力高的地方还是在购买力低的地方，加大宣传力度"
   ]
  },
  {
   "cell_type": "markdown",
   "id": "98a0f4db",
   "metadata": {},
   "source": [
    "2.哪类产品对公司贡献度大，贡献度分析（帕雷托图）2-8原则，20%的人贡献80%的营收"
   ]
  },
  {
   "cell_type": "markdown",
   "id": "98ef24c3",
   "metadata": {},
   "source": [
    "3.那种销售渠道受人欢迎，优化产品销售体系"
   ]
  },
  {
   "cell_type": "markdown",
   "id": "4849dda1",
   "metadata": {},
   "source": [
    "# 指标体系啊"
   ]
  },
  {
   "cell_type": "markdown",
   "id": "9617e089",
   "metadata": {},
   "source": [
    "4.地区购买能力，将地区计数，统计地区的营收额，排名"
   ]
  },
  {
   "cell_type": "markdown",
   "id": "fd921e6d",
   "metadata": {},
   "source": [
    "5.不同时间间隔营收"
   ]
  },
  {
   "cell_type": "markdown",
   "id": "ef690260",
   "metadata": {},
   "source": [
    "6...."
   ]
  }
 ],
 "metadata": {
  "kernelspec": {
   "display_name": "Python 3 (ipykernel)",
   "language": "python",
   "name": "python3"
  },
  "language_info": {
   "codemirror_mode": {
    "name": "ipython",
    "version": 3
   },
   "file_extension": ".py",
   "mimetype": "text/x-python",
   "name": "python",
   "nbconvert_exporter": "python",
   "pygments_lexer": "ipython3",
   "version": "3.9.7"
  }
 },
 "nbformat": 4,
 "nbformat_minor": 5
}
