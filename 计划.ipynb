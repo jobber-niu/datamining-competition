{
 "cells": [
  {
   "cell_type": "code",
   "execution_count": 1,
   "id": "165ba3f3",
   "metadata": {},
   "outputs": [],
   "source": [
    "import pandas as pd\n",
    "import numpy as np\n",
    "import matplotlib.pyplot as plt\n",
    "# 基本库"
   ]
  },
  {
   "cell_type": "markdown",
   "id": "55f8ddde",
   "metadata": {},
   "source": [
    "有用的数据：地区号，商品编号，大类号，小类号，交易方式，交易价格，交易量"
   ]
  },
  {
   "cell_type": "markdown",
   "id": "f73d2960",
   "metadata": {},
   "source": [
    "# 数据预处理"
   ]
  },
  {
   "cell_type": "code",
   "execution_count": 2,
   "id": "0db9aa3d",
   "metadata": {},
   "outputs": [
    {
     "data": {
      "text/html": [
       "<div>\n",
       "<style scoped>\n",
       "    .dataframe tbody tr th:only-of-type {\n",
       "        vertical-align: middle;\n",
       "    }\n",
       "\n",
       "    .dataframe tbody tr th {\n",
       "        vertical-align: top;\n",
       "    }\n",
       "\n",
       "    .dataframe thead th {\n",
       "        text-align: right;\n",
       "    }\n",
       "</style>\n",
       "<table border=\"1\" class=\"dataframe\">\n",
       "  <thead>\n",
       "    <tr style=\"text-align: right;\">\n",
       "      <th></th>\n",
       "      <th>order_date</th>\n",
       "      <th>sales_region_code</th>\n",
       "      <th>item_code</th>\n",
       "      <th>first_cate_code</th>\n",
       "      <th>second_cate_code</th>\n",
       "      <th>sales_chan_name</th>\n",
       "      <th>item_price</th>\n",
       "      <th>ord_qty</th>\n",
       "    </tr>\n",
       "  </thead>\n",
       "  <tbody>\n",
       "    <tr>\n",
       "      <th>0</th>\n",
       "      <td>2015/9/2</td>\n",
       "      <td>104</td>\n",
       "      <td>20028</td>\n",
       "      <td>301</td>\n",
       "      <td>405</td>\n",
       "      <td>offline</td>\n",
       "      <td>1005.0</td>\n",
       "      <td>11</td>\n",
       "    </tr>\n",
       "    <tr>\n",
       "      <th>1</th>\n",
       "      <td>2015/9/3</td>\n",
       "      <td>102</td>\n",
       "      <td>20354</td>\n",
       "      <td>303</td>\n",
       "      <td>401</td>\n",
       "      <td>offline</td>\n",
       "      <td>1420.0</td>\n",
       "      <td>64</td>\n",
       "    </tr>\n",
       "    <tr>\n",
       "      <th>2</th>\n",
       "      <td>2015/9/4</td>\n",
       "      <td>101</td>\n",
       "      <td>20586</td>\n",
       "      <td>306</td>\n",
       "      <td>407</td>\n",
       "      <td>offline</td>\n",
       "      <td>978.0</td>\n",
       "      <td>7</td>\n",
       "    </tr>\n",
       "    <tr>\n",
       "      <th>3</th>\n",
       "      <td>2015/9/4</td>\n",
       "      <td>101</td>\n",
       "      <td>20230</td>\n",
       "      <td>306</td>\n",
       "      <td>407</td>\n",
       "      <td>offline</td>\n",
       "      <td>864.0</td>\n",
       "      <td>66</td>\n",
       "    </tr>\n",
       "    <tr>\n",
       "      <th>4</th>\n",
       "      <td>2015/9/4</td>\n",
       "      <td>105</td>\n",
       "      <td>21619</td>\n",
       "      <td>306</td>\n",
       "      <td>402</td>\n",
       "      <td>online</td>\n",
       "      <td>274.0</td>\n",
       "      <td>102</td>\n",
       "    </tr>\n",
       "  </tbody>\n",
       "</table>\n",
       "</div>"
      ],
      "text/plain": [
       "  order_date  sales_region_code  item_code  first_cate_code  second_cate_code  \\\n",
       "0   2015/9/2                104      20028              301               405   \n",
       "1   2015/9/3                102      20354              303               401   \n",
       "2   2015/9/4                101      20586              306               407   \n",
       "3   2015/9/4                101      20230              306               407   \n",
       "4   2015/9/4                105      21619              306               402   \n",
       "\n",
       "  sales_chan_name  item_price  ord_qty  \n",
       "0         offline      1005.0       11  \n",
       "1         offline      1420.0       64  \n",
       "2         offline       978.0        7  \n",
       "3         offline       864.0       66  \n",
       "4          online       274.0      102  "
      ]
     },
     "execution_count": 2,
     "metadata": {},
     "output_type": "execute_result"
    }
   ],
   "source": [
    "# 训练数据data-train\n",
    "df = pd.read_csv('./示例数据/order_train0.csv')\n",
    "df.head(5)"
   ]
  },
  {
   "cell_type": "code",
   "execution_count": 20,
   "id": "9343c28d",
   "metadata": {
    "scrolled": true
   },
   "outputs": [
    {
     "name": "stdout",
     "output_type": "stream",
     "text": [
      "<class 'pandas.core.frame.DataFrame'>\n",
      "RangeIndex: 59769 entries, 0 to 59768\n",
      "Data columns (total 8 columns):\n",
      " #   Column             Non-Null Count  Dtype  \n",
      "---  ------             --------------  -----  \n",
      " 0   order_date         59769 non-null  object \n",
      " 1   sales_region_code  59769 non-null  int64  \n",
      " 2   item_code          59769 non-null  int64  \n",
      " 3   first_cate_code    59769 non-null  int64  \n",
      " 4   second_cate_code   59769 non-null  int64  \n",
      " 5   sales_chan_name    59769 non-null  object \n",
      " 6   item_price         59769 non-null  float64\n",
      " 7   ord_qty            59769 non-null  int64  \n",
      "dtypes: float64(1), int64(5), object(2)\n",
      "memory usage: 3.6+ MB\n"
     ]
    }
   ],
   "source": [
    "df.info()"
   ]
  },
  {
   "cell_type": "markdown",
   "id": "f5abb50a",
   "metadata": {},
   "source": [
    "## —————交易价格和交易量的关系———————"
   ]
  },
  {
   "cell_type": "markdown",
   "id": "b946b310",
   "metadata": {},
   "source": [
    "## 1.先进行描述性分析"
   ]
  },
  {
   "cell_type": "code",
   "execution_count": 7,
   "id": "8c9a8874",
   "metadata": {},
   "outputs": [
    {
     "data": {
      "text/plain": [
       "count    59769.000000\n",
       "mean      1074.334474\n",
       "std        966.881714\n",
       "min          1.000000\n",
       "25%        597.000000\n",
       "50%        880.280000\n",
       "75%       1291.000000\n",
       "max      47911.000000\n",
       "Name: item_price, dtype: float64"
      ]
     },
     "execution_count": 7,
     "metadata": {},
     "output_type": "execute_result"
    }
   ],
   "source": [
    "df.item_price.describe()"
   ]
  },
  {
   "cell_type": "code",
   "execution_count": 6,
   "id": "8deaf3c9",
   "metadata": {
    "scrolled": false
   },
   "outputs": [
    {
     "data": {
      "image/png": "[encoded data removed]",
      "text/plain": [
       "<Figure size 432x288 with 1 Axes>"
      ]
     },
     "metadata": {
      "needs_background": "light"
     },
     "output_type": "display_data"
    }
   ],
   "source": [
    "plt.plot(df['item_price'])\n",
    "plt.show()"
   ]
  },
  {
   "cell_type": "code",
   "execution_count": 19,
   "id": "2d809faa",
   "metadata": {
    "scrolled": false
   },
   "outputs": [
    {
     "data": {
      "text/plain": [
       "count    59769.000000\n",
       "mean        91.443139\n",
       "std        195.407986\n",
       "min          1.000000\n",
       "25%         10.000000\n",
       "50%         29.000000\n",
       "75%        101.000000\n",
       "max      12480.000000\n",
       "Name: ord_qty, dtype: float64"
      ]
     },
     "execution_count": 19,
     "metadata": {},
     "output_type": "execute_result"
    }
   ],
   "source": [
    "df.ord_qty.describe()"
   ]
  },
  {
   "cell_type": "code",
   "execution_count": 20,
   "id": "581d2321",
   "metadata": {},
   "outputs": [
    {
     "data": {
      "image/png": "[encoded data removed]",
      "text/plain": [
       "<Figure size 432x288 with 1 Axes>"
      ]
     },
     "metadata": {
      "needs_background": "light"
     },
     "output_type": "display_data"
    }
   ],
   "source": [
    "plt.plot(df['ord_qty'])\n",
    "plt.show()"
   ]
  },
  {
   "cell_type": "markdown",
   "id": "862c1991",
   "metadata": {},
   "source": [
    "## 删除异常值"
   ]
  },
  {
   "cell_type": "markdown",
   "id": "db85b030",
   "metadata": {},
   "source": [
    "箱线法去值，上须Q3 + 1.5*（Q3-Q1），下须Q1-1.5*(Q3-Q1)，超过上须或者低于下须的数据点都可以认为是异常值。\n",
    "\n",
    "Q1 25%分位点 下四分位点\n",
    "Q3 75%分位点 上四分位点\n",
    "\n",
    "大量数据，所以做删除处理"
   ]
  },
  {
   "cell_type": "markdown",
   "id": "f444bc36",
   "metadata": {},
   "source": [
    "min          1.000000\n",
    "25%        597.000000\n",
    "50%        880.280000\n",
    "75%       1291.000000\n",
    "max      47911.000000\n",
    "\n",
    "min          1.000000\n",
    "25%         10.000000\n",
    "50%         29.000000\n",
    "75%        101.000000\n",
    "max      12480.000000"
   ]
  },
  {
   "cell_type": "code",
   "execution_count": 15,
   "id": "73e30b55",
   "metadata": {},
   "outputs": [
    {
     "name": "stdout",
     "output_type": "stream",
     "text": [
      "250.0 1638.0\n"
     ]
    }
   ],
   "source": [
    "价格上须 = 1291 - 1.5*(1291-597)\n",
    "价格下须 = 597 + 1.5*(1291-597)\n",
    "print(价格上须,价格下须)"
   ]
  },
  {
   "cell_type": "code",
   "execution_count": 18,
   "id": "7b7490c6",
   "metadata": {},
   "outputs": [
    {
     "name": "stdout",
     "output_type": "stream",
     "text": [
      "-35.5 146.5\n"
     ]
    }
   ],
   "source": [
    "交易上须 = 101 - 1.5*(101-10)\n",
    "交易下须 = 10 + 1.5*(101-10)\n",
    "print(交易上须,交易下须)"
   ]
  },
  {
   "cell_type": "code",
   "execution_count": null,
   "id": "b38e46ed",
   "metadata": {},
   "outputs": [],
   "source": []
  },
  {
   "cell_type": "code",
   "execution_count": null,
   "id": "45a30168",
   "metadata": {},
   "outputs": [],
   "source": []
  },
  {
   "cell_type": "code",
   "execution_count": null,
   "id": "4fdcce2a",
   "metadata": {},
   "outputs": [],
   "source": []
  },
  {
   "cell_type": "code",
   "execution_count": null,
   "id": "fd5eb1c5",
   "metadata": {},
   "outputs": [],
   "source": []
  },
  {
   "cell_type": "markdown",
   "id": "8c7356f1",
   "metadata": {},
   "source": [
    "### 做一个价格和交易量的线性回归"
   ]
  },
  {
   "cell_type": "code",
   "execution_count": null,
   "id": "f3459348",
   "metadata": {},
   "outputs": [],
   "source": []
  },
  {
   "cell_type": "code",
   "execution_count": null,
   "id": "149bf01d",
   "metadata": {},
   "outputs": [],
   "source": []
  },
  {
   "cell_type": "code",
   "execution_count": null,
   "id": "b8e17e72",
   "metadata": {},
   "outputs": [],
   "source": []
  },
  {
   "cell_type": "markdown",
   "id": "8c21b918",
   "metadata": {},
   "source": [
    "## —————交易价格和交易量的关系——————"
   ]
  },
  {
   "cell_type": "markdown",
   "id": "61d82a37",
   "metadata": {},
   "source": []
  },
  {
   "cell_type": "markdown",
   "id": "4dcc6cdf",
   "metadata": {},
   "source": []
  },
  {
   "cell_type": "markdown",
   "id": "7cebfa45",
   "metadata": {},
   "source": []
  },
  {
   "cell_type": "markdown",
   "id": "c898dc5b",
   "metadata": {},
   "source": [
    "## ————地区和交易方式的关系—————"
   ]
  },
  {
   "cell_type": "code",
   "execution_count": 42,
   "id": "65e658e8",
   "metadata": {},
   "outputs": [
    {
     "data": {
      "text/plain": [
       "0        offline\n",
       "1        offline\n",
       "2        offline\n",
       "3        offline\n",
       "4         online\n",
       "          ...   \n",
       "59764    offline\n",
       "59765    offline\n",
       "59766    offline\n",
       "59767    offline\n",
       "59768    offline\n",
       "Name: sales_chan_name, Length: 59769, dtype: object"
      ]
     },
     "execution_count": 42,
     "metadata": {},
     "output_type": "execute_result"
    }
   ],
   "source": [
    "df.sales_chan_name"
   ]
  },
  {
   "cell_type": "code",
   "execution_count": null,
   "id": "75321279",
   "metadata": {},
   "outputs": [],
   "source": []
  },
  {
   "cell_type": "code",
   "execution_count": null,
   "id": "738b9e98",
   "metadata": {},
   "outputs": [],
   "source": []
  },
  {
   "cell_type": "code",
   "execution_count": null,
   "id": "d11c0d25",
   "metadata": {},
   "outputs": [],
   "source": []
  },
  {
   "cell_type": "markdown",
   "id": "6a894127",
   "metadata": {},
   "source": [
    "## ————商品大类和交易方式的关系————"
   ]
  },
  {
   "cell_type": "code",
   "execution_count": null,
   "id": "cfe57706",
   "metadata": {},
   "outputs": [],
   "source": []
  },
  {
   "cell_type": "code",
   "execution_count": null,
   "id": "482bbba0",
   "metadata": {},
   "outputs": [],
   "source": []
  },
  {
   "cell_type": "code",
   "execution_count": null,
   "id": "6d7fe51c",
   "metadata": {},
   "outputs": [],
   "source": []
  },
  {
   "cell_type": "code",
   "execution_count": null,
   "id": "8d91d35a",
   "metadata": {},
   "outputs": [],
   "source": []
  }
 ],
 "metadata": {
  "kernelspec": {
   "display_name": "Python 3 (ipykernel)",
   "language": "python",
   "name": "python3"
  },
  "language_info": {
   "codemirror_mode": {
    "name": "ipython",
    "version": 3
   },
   "file_extension": ".py",
   "mimetype": "text/x-python",
   "name": "python",
   "nbconvert_exporter": "python",
   "pygments_lexer": "ipython3",
   "version": "3.9.7"
  }
 },
 "nbformat": 4,
 "nbformat_minor": 5
}
