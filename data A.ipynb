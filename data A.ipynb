{
 "cells": [
  {
   "cell_type": "markdown",
   "id": "6d82540f",
   "metadata": {},
   "source": [
    "分析目标\n",
    "建立预测模型，按日月年预测\n",
    "分析思路\n",
    "清洗预处理，分析简单统计指标，数据分层，分析统计指标，建立数据模型"
   ]
  },
  {
   "cell_type": "code",
   "execution_count": 1,
   "id": "165ba3f3",
   "metadata": {},
   "outputs": [],
   "source": [
    "import pandas as pd\n",
    "import numpy as np\n",
    "import matplotlib.pyplot as plt\n",
    "import seaborn\n",
    "# 基本库"
   ]
  },
  {
   "cell_type": "markdown",
   "id": "55f8ddde",
   "metadata": {},
   "source": [
    "有用的数据：地区号，商品编号，大类号，小类号，交易方式，交易价格，交易量"
   ]
  },
  {
   "cell_type": "markdown",
   "id": "f73d2960",
   "metadata": {},
   "source": [
    "# 数据预处理"
   ]
  },
  {
   "cell_type": "code",
   "execution_count": 2,
   "id": "0db9aa3d",
   "metadata": {},
   "outputs": [
    {
     "data": {
      "text/html": [
       "<div>\n",
       "<style scoped>\n",
       "    .dataframe tbody tr th:only-of-type {\n",
       "        vertical-align: middle;\n",
       "    }\n",
       "\n",
       "    .dataframe tbody tr th {\n",
       "        vertical-align: top;\n",
       "    }\n",
       "\n",
       "    .dataframe thead th {\n",
       "        text-align: right;\n",
       "    }\n",
       "</style>\n",
       "<table border=\"1\" class=\"dataframe\">\n",
       "  <thead>\n",
       "    <tr style=\"text-align: right;\">\n",
       "      <th></th>\n",
       "      <th>order_date</th>\n",
       "      <th>sales_region_code</th>\n",
       "      <th>item_code</th>\n",
       "      <th>first_cate_code</th>\n",
       "      <th>second_cate_code</th>\n",
       "      <th>sales_chan_name</th>\n",
       "      <th>item_price</th>\n",
       "      <th>ord_qty</th>\n",
       "    </tr>\n",
       "  </thead>\n",
       "  <tbody>\n",
       "    <tr>\n",
       "      <th>0</th>\n",
       "      <td>2015/9/2</td>\n",
       "      <td>104</td>\n",
       "      <td>20028</td>\n",
       "      <td>301</td>\n",
       "      <td>405</td>\n",
       "      <td>offline</td>\n",
       "      <td>1005.0</td>\n",
       "      <td>11</td>\n",
       "    </tr>\n",
       "    <tr>\n",
       "      <th>1</th>\n",
       "      <td>2015/9/3</td>\n",
       "      <td>102</td>\n",
       "      <td>20354</td>\n",
       "      <td>303</td>\n",
       "      <td>401</td>\n",
       "      <td>offline</td>\n",
       "      <td>1420.0</td>\n",
       "      <td>64</td>\n",
       "    </tr>\n",
       "    <tr>\n",
       "      <th>2</th>\n",
       "      <td>2015/9/4</td>\n",
       "      <td>101</td>\n",
       "      <td>20586</td>\n",
       "      <td>306</td>\n",
       "      <td>407</td>\n",
       "      <td>offline</td>\n",
       "      <td>978.0</td>\n",
       "      <td>7</td>\n",
       "    </tr>\n",
       "    <tr>\n",
       "      <th>3</th>\n",
       "      <td>2015/9/4</td>\n",
       "      <td>101</td>\n",
       "      <td>20230</td>\n",
       "      <td>306</td>\n",
       "      <td>407</td>\n",
       "      <td>offline</td>\n",
       "      <td>864.0</td>\n",
       "      <td>66</td>\n",
       "    </tr>\n",
       "    <tr>\n",
       "      <th>4</th>\n",
       "      <td>2015/9/4</td>\n",
       "      <td>105</td>\n",
       "      <td>21619</td>\n",
       "      <td>306</td>\n",
       "      <td>402</td>\n",
       "      <td>online</td>\n",
       "      <td>274.0</td>\n",
       "      <td>102</td>\n",
       "    </tr>\n",
       "  </tbody>\n",
       "</table>\n",
       "</div>"
      ],
      "text/plain": [
       "  order_date  sales_region_code  item_code  first_cate_code  second_cate_code  \\\n",
       "0   2015/9/2                104      20028              301               405   \n",
       "1   2015/9/3                102      20354              303               401   \n",
       "2   2015/9/4                101      20586              306               407   \n",
       "3   2015/9/4                101      20230              306               407   \n",
       "4   2015/9/4                105      21619              306               402   \n",
       "\n",
       "  sales_chan_name  item_price  ord_qty  \n",
       "0         offline      1005.0       11  \n",
       "1         offline      1420.0       64  \n",
       "2         offline       978.0        7  \n",
       "3         offline       864.0       66  \n",
       "4          online       274.0      102  "
      ]
     },
     "execution_count": 2,
     "metadata": {},
     "output_type": "execute_result"
    }
   ],
   "source": [
    "# 训练数据data-train\n",
    "df = pd.read_csv('./示例数据/order_train0.csv')\n",
    "# df.head(5)"
   ]
  },
  {
   "cell_type": "code",
   "execution_count": 14,
   "id": "9343c28d",
   "metadata": {
    "scrolled": true
   },
   "outputs": [
    {
     "name": "stdout",
     "output_type": "stream",
     "text": [
      "<class 'pandas.core.frame.DataFrame'>\n",
      "RangeIndex: 59769 entries, 0 to 59768\n",
      "Data columns (total 8 columns):\n",
      " #   Column             Non-Null Count  Dtype  \n",
      "---  ------             --------------  -----  \n",
      " 0   order_date         59769 non-null  object \n",
      " 1   sales_region_code  59769 non-null  int64  \n",
      " 2   item_code          59769 non-null  int64  \n",
      " 3   first_cate_code    59769 non-null  int64  \n",
      " 4   second_cate_code   59769 non-null  int64  \n",
      " 5   sales_chan_name    59769 non-null  object \n",
      " 6   item_price         59769 non-null  float64\n",
      " 7   ord_qty            59769 non-null  int64  \n",
      "dtypes: float64(1), int64(5), object(2)\n",
      "memory usage: 3.6+ MB\n"
     ]
    }
   ],
   "source": [
    "df.info()"
   ]
  },
  {
   "cell_type": "code",
   "execution_count": 18,
   "id": "be43cdd7",
   "metadata": {},
   "outputs": [],
   "source": [
    "df['order_date'] = pd.to_datetime(df['order_date'])"
   ]
  },
  {
   "cell_type": "markdown",
   "id": "f5abb50a",
   "metadata": {},
   "source": [
    "## —————交易价格和交易量的关系———————"
   ]
  },
  {
   "cell_type": "markdown",
   "id": "b946b310",
   "metadata": {},
   "source": [
    "## 1.先进行描述性分析"
   ]
  },
  {
   "cell_type": "code",
   "execution_count": null,
   "id": "249f29fb",
   "metadata": {},
   "outputs": [],
   "source": []
  },
  {
   "cell_type": "code",
   "execution_count": 21,
   "id": "8c9a8874",
   "metadata": {
    "scrolled": true
   },
   "outputs": [
    {
     "name": "stdout",
     "output_type": "stream",
     "text": [
      "count    59769.000000\n",
      "mean      1074.334474\n",
      "std        966.881714\n",
      "min          1.000000\n",
      "25%        597.000000\n",
      "50%        880.280000\n",
      "75%       1291.000000\n",
      "max      47911.000000\n",
      "Name: item_price, dtype: float64\n",
      "count    59769.000000\n",
      "mean        91.443139\n",
      "std        195.407986\n",
      "min          1.000000\n",
      "25%         10.000000\n",
      "50%         29.000000\n",
      "75%        101.000000\n",
      "max      12480.000000\n",
      "Name: ord_qty, dtype: float64\n"
     ]
    },
    {
     "data": {
      "image/png": "[encoded data removed]",
      "text/plain": [
       "<Figure size 720x360 with 1 Axes>"
      ]
     },
     "metadata": {
      "needs_background": "light"
     },
     "output_type": "display_data"
    },
    {
     "data": {
      "image/png": "[encoded data removed]",
      "text/plain": [
       "<Figure size 720x360 with 1 Axes>"
      ]
     },
     "metadata": {
      "needs_background": "light"
     },
     "output_type": "display_data"
    }
   ],
   "source": [
    "plt.figure(figsize=(10,5))\n",
    "print(df.item_price.describe())\n",
    "plt.subplot(1,2,1)\n",
    "plt.plot(df['order_date'],df['item_price'])\n",
    "# plt.figure(figsize=(10,5))\n",
    "print(df.ord_qty.describe())\n",
    "plt.subplot(1,2,2)\n",
    "plt.plot(df['order_date'],df['ord_qty'])\n",
    "plt.show()"
   ]
  },
  {
   "cell_type": "markdown",
   "id": "862c1991",
   "metadata": {},
   "source": [
    "## 删除异常值"
   ]
  },
  {
   "cell_type": "code",
   "execution_count": null,
   "id": "c8d28026",
   "metadata": {},
   "outputs": [],
   "source": []
  },
  {
   "cell_type": "markdown",
   "id": "db85b030",
   "metadata": {},
   "source": [
    "箱线法去值，上须Q3 + 1.5*（Q3-Q1），下须Q1-1.5*(Q3-Q1)，超过上须或者低于下须的数据点都可以认为是异常值。\n",
    "\n",
    "Q1 25%分位点 下四分位点\n",
    "Q3 75%分位点 上四分位点\n",
    "\n",
    "大量数据，所以做删除处理"
   ]
  },
  {
   "cell_type": "markdown",
   "id": "f444bc36",
   "metadata": {},
   "source": [
    "min          1.000000\n",
    "25%        597.000000\n",
    "50%        880.280000\n",
    "75%       1291.000000\n",
    "max      47911.000000\n",
    "\n",
    "min          1.000000\n",
    "25%         10.000000\n",
    "50%         29.000000\n",
    "75%        101.000000\n",
    "max      12480.000000"
   ]
  },
  {
   "cell_type": "code",
   "execution_count": 17,
   "id": "73e30b55",
   "metadata": {},
   "outputs": [
    {
     "name": "stdout",
     "output_type": "stream",
     "text": [
      "250.0 1638.0\n"
     ]
    }
   ],
   "source": [
    "价格上须 = 1291 - 1.5*(1291-597)\n",
    "价格下须 = 597 + 1.5*(1291-597)\n",
    "print(价格上须,价格下须)"
   ]
  },
  {
   "cell_type": "code",
   "execution_count": 13,
   "id": "7b7490c6",
   "metadata": {},
   "outputs": [
    {
     "name": "stdout",
     "output_type": "stream",
     "text": [
      "55.5 55.5\n"
     ]
    }
   ],
   "source": [
    "交易上须 = 101 - 0.5*(101-10)\n",
    "交易下须 = 10 + 0.5*(101-10)\n",
    "print(交易上须,交易下须)"
   ]
  },
  {
   "cell_type": "code",
   "execution_count": 55,
   "id": "69f09ed9",
   "metadata": {},
   "outputs": [],
   "source": [
    "p = df['item_price']\n",
    "q = df['ord_qty']"
   ]
  },
  {
   "cell_type": "code",
   "execution_count": 24,
   "id": "3605415b",
   "metadata": {},
   "outputs": [
    {
     "name": "stdout",
     "output_type": "stream",
     "text": [
      "59769 59769\n"
     ]
    }
   ],
   "source": [
    "print(len(p),len(q))"
   ]
  },
  {
   "cell_type": "code",
   "execution_count": 56,
   "id": "444b2814",
   "metadata": {},
   "outputs": [
    {
     "data": {
      "text/plain": [
       "0        1005.0\n",
       "1        1420.0\n",
       "2         978.0\n",
       "3         864.0\n",
       "4         274.0\n",
       "          ...  \n",
       "59764     799.0\n",
       "59765     327.0\n",
       "59766    1006.0\n",
       "59767          \n",
       "59768    1103.0\n",
       "Name: item_price, Length: 59769, dtype: object"
      ]
     },
     "execution_count": 56,
     "metadata": {},
     "output_type": "execute_result"
    }
   ],
   "source": [
    "p"
   ]
  },
  {
   "cell_type": "code",
   "execution_count": 65,
   "id": "bb12a2d2",
   "metadata": {},
   "outputs": [
    {
     "ename": "TypeError",
     "evalue": "'<' not supported between instances of 'str' and 'float'",
     "output_type": "error",
     "traceback": [
      "\u001b[1;31m---------------------------------------------------------------------------\u001b[0m",
      "\u001b[1;31mTypeError\u001b[0m                                 Traceback (most recent call last)",
      "\u001b[1;32mC:\\Users\\ADMINI~1\\AppData\\Local\\Temp/ipykernel_16864/3015812965.py\u001b[0m in \u001b[0;36m<module>\u001b[1;34m\u001b[0m\n\u001b[0;32m      1\u001b[0m \u001b[1;32mfor\u001b[0m \u001b[0mi\u001b[0m \u001b[1;32min\u001b[0m \u001b[0mrange\u001b[0m\u001b[1;33m(\u001b[0m\u001b[0mlen\u001b[0m\u001b[1;33m(\u001b[0m\u001b[0mp\u001b[0m\u001b[1;33m)\u001b[0m\u001b[1;33m)\u001b[0m\u001b[1;33m:\u001b[0m\u001b[1;33m\u001b[0m\u001b[1;33m\u001b[0m\u001b[0m\n\u001b[1;32m----> 2\u001b[1;33m     \u001b[1;32mif\u001b[0m \u001b[0mp\u001b[0m\u001b[1;33m[\u001b[0m\u001b[0mi\u001b[0m\u001b[1;33m]\u001b[0m \u001b[1;33m<\u001b[0m \u001b[1;36m250.0\u001b[0m \u001b[1;32mor\u001b[0m \u001b[0mp\u001b[0m\u001b[1;33m[\u001b[0m\u001b[0mi\u001b[0m\u001b[1;33m]\u001b[0m \u001b[1;33m>\u001b[0m \u001b[1;36m1638.0\u001b[0m\u001b[1;33m:\u001b[0m\u001b[1;33m\u001b[0m\u001b[1;33m\u001b[0m\u001b[0m\n\u001b[0m\u001b[0;32m      3\u001b[0m         \u001b[0mprint\u001b[0m\u001b[1;33m(\u001b[0m\u001b[0mp\u001b[0m\u001b[1;33m[\u001b[0m\u001b[0mi\u001b[0m\u001b[1;33m]\u001b[0m\u001b[1;33m)\u001b[0m\u001b[1;33m\u001b[0m\u001b[1;33m\u001b[0m\u001b[0m\n\u001b[0;32m      4\u001b[0m         \u001b[0mp\u001b[0m\u001b[1;33m[\u001b[0m\u001b[0mi\u001b[0m\u001b[1;33m]\u001b[0m \u001b[1;33m=\u001b[0m \u001b[1;34m' '\u001b[0m\u001b[1;33m\u001b[0m\u001b[1;33m\u001b[0m\u001b[0m\n\u001b[0;32m      5\u001b[0m     \u001b[0mi\u001b[0m \u001b[1;33m=\u001b[0m \u001b[0mi\u001b[0m \u001b[1;33m+\u001b[0m \u001b[1;36m1\u001b[0m\u001b[1;33m\u001b[0m\u001b[1;33m\u001b[0m\u001b[0m\n",
      "\u001b[1;31mTypeError\u001b[0m: '<' not supported between instances of 'str' and 'float'"
     ]
    }
   ],
   "source": [
    "for i in range(len(p)):\n",
    "    if p['item_price'][i] < 250.0 or p['item_price'][i] > 1638.0:\n",
    "        print(p[i])\n",
    "        p[i] = ' '\n",
    "    i = i + 1\n",
    "# print(p.head(10),len(p))"
   ]
  },
  {
   "cell_type": "code",
   "execution_count": 28,
   "id": "7725891b",
   "metadata": {},
   "outputs": [],
   "source": [
    "p.to_excel('./看看多少空值.xlsx')\n",
    "# 有10456（5）个空值"
   ]
  },
  {
   "cell_type": "code",
   "execution_count": 42,
   "id": "51fcbe4f",
   "metadata": {},
   "outputs": [
    {
     "data": {
      "text/plain": [
       "0"
      ]
     },
     "execution_count": 42,
     "metadata": {},
     "output_type": "execute_result"
    }
   ],
   "source": [
    "p.isnull().sum(axis = 0)"
   ]
  },
  {
   "cell_type": "code",
   "execution_count": 43,
   "id": "2fb259fe",
   "metadata": {},
   "outputs": [
    {
     "data": {
      "text/plain": [
       "0        1005.0\n",
       "1        1420.0\n",
       "2         978.0\n",
       "3         864.0\n",
       "4         274.0\n",
       "          ...  \n",
       "59764     799.0\n",
       "59765     327.0\n",
       "59766    1006.0\n",
       "59767          \n",
       "59768    1103.0\n",
       "Name: item_price, Length: 59769, dtype: object"
      ]
     },
     "execution_count": 43,
     "metadata": {},
     "output_type": "execute_result"
    }
   ],
   "source": []
  },
  {
   "cell_type": "code",
   "execution_count": 28,
   "id": "611f17ea",
   "metadata": {
    "scrolled": true
   },
   "outputs": [
    {
     "ename": "TypeError",
     "evalue": "'<' not supported between instances of 'str' and 'float'",
     "output_type": "error",
     "traceback": [
      "\u001b[1;31m---------------------------------------------------------------------------\u001b[0m",
      "\u001b[1;31mTypeError\u001b[0m                                 Traceback (most recent call last)",
      "\u001b[1;32mC:\\Users\\ADMINI~1\\AppData\\Local\\Temp/ipykernel_16864/267143416.py\u001b[0m in \u001b[0;36m<module>\u001b[1;34m\u001b[0m\n\u001b[0;32m      1\u001b[0m \u001b[1;32mfor\u001b[0m \u001b[0mi\u001b[0m \u001b[1;32min\u001b[0m \u001b[0mrange\u001b[0m\u001b[1;33m(\u001b[0m\u001b[0mlen\u001b[0m\u001b[1;33m(\u001b[0m\u001b[0mp\u001b[0m\u001b[1;33m)\u001b[0m\u001b[1;33m)\u001b[0m\u001b[1;33m:\u001b[0m\u001b[1;33m\u001b[0m\u001b[1;33m\u001b[0m\u001b[0m\n\u001b[1;32m----> 2\u001b[1;33m     \u001b[1;32mif\u001b[0m \u001b[0mp\u001b[0m\u001b[1;33m[\u001b[0m\u001b[0mi\u001b[0m\u001b[1;33m]\u001b[0m \u001b[1;33m<\u001b[0m \u001b[1;36m250.0\u001b[0m \u001b[1;32mor\u001b[0m \u001b[0mp\u001b[0m\u001b[1;33m[\u001b[0m\u001b[0mi\u001b[0m\u001b[1;33m]\u001b[0m \u001b[1;33m>\u001b[0m \u001b[1;36m1638.0\u001b[0m\u001b[1;33m:\u001b[0m\u001b[1;33m\u001b[0m\u001b[1;33m\u001b[0m\u001b[0m\n\u001b[0m\u001b[0;32m      3\u001b[0m         \u001b[0mprint\u001b[0m\u001b[1;33m(\u001b[0m\u001b[0mp\u001b[0m\u001b[1;33m[\u001b[0m\u001b[0mi\u001b[0m\u001b[1;33m]\u001b[0m\u001b[1;33m)\u001b[0m\u001b[1;33m\u001b[0m\u001b[1;33m\u001b[0m\u001b[0m\n\u001b[0;32m      4\u001b[0m     \u001b[0mi\u001b[0m \u001b[1;33m=\u001b[0m \u001b[0mi\u001b[0m \u001b[1;33m+\u001b[0m \u001b[1;36m1\u001b[0m\u001b[1;33m\u001b[0m\u001b[1;33m\u001b[0m\u001b[0m\n",
      "\u001b[1;31mTypeError\u001b[0m: '<' not supported between instances of 'str' and 'float'"
     ]
    }
   ],
   "source": []
  },
  {
   "cell_type": "code",
   "execution_count": 32,
   "id": "9b3f35e9",
   "metadata": {},
   "outputs": [
    {
     "data": {
      "text/plain": [
       "0        1005.0\n",
       "1        1420.0\n",
       "2         978.0\n",
       "3         864.0\n",
       "4         274.0\n",
       "          ...  \n",
       "59764     799.0\n",
       "59765     327.0\n",
       "59766    1006.0\n",
       "59767          \n",
       "59768    1103.0\n",
       "Name: item_price, Length: 59769, dtype: object"
      ]
     },
     "execution_count": 32,
     "metadata": {},
     "output_type": "execute_result"
    }
   ],
   "source": [
    "p"
   ]
  },
  {
   "cell_type": "code",
   "execution_count": null,
   "id": "8466c73b",
   "metadata": {},
   "outputs": [],
   "source": []
  },
  {
   "cell_type": "code",
   "execution_count": null,
   "id": "4036abcd",
   "metadata": {},
   "outputs": [],
   "source": []
  },
  {
   "cell_type": "code",
   "execution_count": null,
   "id": "f7f1fae9",
   "metadata": {},
   "outputs": [],
   "source": []
  },
  {
   "cell_type": "code",
   "execution_count": null,
   "id": "4199806d",
   "metadata": {},
   "outputs": [],
   "source": []
  },
  {
   "cell_type": "code",
   "execution_count": 15,
   "id": "b38e46ed",
   "metadata": {},
   "outputs": [],
   "source": [
    "dirc = {'offline':0,'online':1}\n",
    "df['sales_chan_name'].replace(dirc,inplace = True)"
   ]
  },
  {
   "cell_type": "code",
   "execution_count": 16,
   "id": "45a30168",
   "metadata": {},
   "outputs": [
    {
     "data": {
      "text/plain": [
       "0    44084\n",
       "1    15685\n",
       "Name: sales_chan_name, dtype: int64"
      ]
     },
     "execution_count": 16,
     "metadata": {},
     "output_type": "execute_result"
    }
   ],
   "source": [
    "df['sales_chan_name'].value_counts()"
   ]
  },
  {
   "cell_type": "code",
   "execution_count": 17,
   "id": "4fdcce2a",
   "metadata": {},
   "outputs": [
    {
     "data": {
      "text/plain": [
       "order_date  sales_region_code  item_code  first_cate_code  second_cate_code  sales_chan_name  item_price  ord_qty\n",
       "2017/11/3   102                20135      303              401               0                859.0       3          2\n",
       "2018/11/9   103                20661      302              408               0                926.0       10         2\n",
       "2018/9/28   103                20531      307              403               0                1239.0      18         2\n",
       "2015/10/10  101                20007      305              412               0                87.0        203        1\n",
       "2018/10/10  103                21819      306              402               0                330.0       2          1\n",
       "                                                                                                                    ..\n",
       "2017/10/28  101                20433      305              412               0                1813.0      8          1\n",
       "                               20459      305              412               0                1661.0      8          1\n",
       "                               20795      307              403               0                363.0       36         1\n",
       "                               20911      301              405               0                1117.0      15         1\n",
       "2018/9/9    105                21913      306              407               1                1198.0      24         1\n",
       "Length: 59766, dtype: int64"
      ]
     },
     "execution_count": 17,
     "metadata": {},
     "output_type": "execute_result"
    }
   ],
   "source": [
    "df.value_counts() # 竟然有重复数据，藏的够深"
   ]
  },
  {
   "cell_type": "code",
   "execution_count": 18,
   "id": "dbdea527",
   "metadata": {},
   "outputs": [],
   "source": [
    "df.drop_duplicates(subset=None,keep = 'first',inplace = True)"
   ]
  },
  {
   "cell_type": "code",
   "execution_count": 19,
   "id": "fd5eb1c5",
   "metadata": {},
   "outputs": [
    {
     "data": {
      "text/plain": [
       "order_date  sales_region_code  item_code  first_cate_code  second_cate_code  sales_chan_name  item_price  ord_qty\n",
       "2015/10/10  101                20007      305              412               0                87.0        203        1\n",
       "2018/10/10  103                21978      307              403               0                403.0       52         1\n",
       "                               20661      302              408               0                929.0       19         1\n",
       "                                                                                              939.0       20         1\n",
       "                               20712      306              407               0                831.0       11         1\n",
       "                                                                                                                    ..\n",
       "2017/10/28  101                20433      305              412               0                1813.0      8          1\n",
       "                               20459      305              412               0                1661.0      8          1\n",
       "                               20795      307              403               0                363.0       36         1\n",
       "                               20911      301              405               0                1117.0      15         1\n",
       "2018/9/9    105                21913      306              407               1                1198.0      24         1\n",
       "Length: 59766, dtype: int64"
      ]
     },
     "execution_count": 19,
     "metadata": {},
     "output_type": "execute_result"
    }
   ],
   "source": [
    "df.value_counts()"
   ]
  },
  {
   "cell_type": "code",
   "execution_count": 68,
   "id": "3e0710d9",
   "metadata": {
    "scrolled": true
   },
   "outputs": [
    {
     "ename": "KeyError",
     "evalue": "('item_price', 'ord_qty')",
     "output_type": "error",
     "traceback": [
      "\u001b[1;31m---------------------------------------------------------------------------\u001b[0m",
      "\u001b[1;31mKeyError\u001b[0m                                  Traceback (most recent call last)",
      "\u001b[1;32mD:\\Anaconda3\\lib\\site-packages\\pandas\\core\\indexes\\base.py\u001b[0m in \u001b[0;36mget_loc\u001b[1;34m(self, key, method, tolerance)\u001b[0m\n\u001b[0;32m   3360\u001b[0m             \u001b[1;32mtry\u001b[0m\u001b[1;33m:\u001b[0m\u001b[1;33m\u001b[0m\u001b[1;33m\u001b[0m\u001b[0m\n\u001b[1;32m-> 3361\u001b[1;33m                 \u001b[1;32mreturn\u001b[0m \u001b[0mself\u001b[0m\u001b[1;33m.\u001b[0m\u001b[0m_engine\u001b[0m\u001b[1;33m.\u001b[0m\u001b[0mget_loc\u001b[0m\u001b[1;33m(\u001b[0m\u001b[0mcasted_key\u001b[0m\u001b[1;33m)\u001b[0m\u001b[1;33m\u001b[0m\u001b[1;33m\u001b[0m\u001b[0m\n\u001b[0m\u001b[0;32m   3362\u001b[0m             \u001b[1;32mexcept\u001b[0m \u001b[0mKeyError\u001b[0m \u001b[1;32mas\u001b[0m \u001b[0merr\u001b[0m\u001b[1;33m:\u001b[0m\u001b[1;33m\u001b[0m\u001b[1;33m\u001b[0m\u001b[0m\n",
      "\u001b[1;32mD:\\Anaconda3\\lib\\site-packages\\pandas\\_libs\\index.pyx\u001b[0m in \u001b[0;36mpandas._libs.index.IndexEngine.get_loc\u001b[1;34m()\u001b[0m\n",
      "\u001b[1;32mD:\\Anaconda3\\lib\\site-packages\\pandas\\_libs\\index.pyx\u001b[0m in \u001b[0;36mpandas._libs.index.IndexEngine.get_loc\u001b[1;34m()\u001b[0m\n",
      "\u001b[1;32mpandas\\_libs\\hashtable_class_helper.pxi\u001b[0m in \u001b[0;36mpandas._libs.hashtable.PyObjectHashTable.get_item\u001b[1;34m()\u001b[0m\n",
      "\u001b[1;32mpandas\\_libs\\hashtable_class_helper.pxi\u001b[0m in \u001b[0;36mpandas._libs.hashtable.PyObjectHashTable.get_item\u001b[1;34m()\u001b[0m\n",
      "\u001b[1;31mKeyError\u001b[0m: ('item_price', 'ord_qty')",
      "\nThe above exception was the direct cause of the following exception:\n",
      "\u001b[1;31mKeyError\u001b[0m                                  Traceback (most recent call last)",
      "\u001b[1;32mC:\\Users\\ADMINI~1\\AppData\\Local\\Temp/ipykernel_16864/1594311507.py\u001b[0m in \u001b[0;36m<module>\u001b[1;34m\u001b[0m\n\u001b[1;32m----> 1\u001b[1;33m \u001b[0mdf\u001b[0m\u001b[1;33m[\u001b[0m\u001b[1;33m(\u001b[0m\u001b[1;34m'item_price'\u001b[0m\u001b[1;33m,\u001b[0m\u001b[1;34m'ord_qty'\u001b[0m\u001b[1;33m)\u001b[0m\u001b[1;33m]\u001b[0m\u001b[1;33m.\u001b[0m\u001b[0mdescribe\u001b[0m\u001b[1;33m(\u001b[0m\u001b[1;33m)\u001b[0m\u001b[1;33m\u001b[0m\u001b[1;33m\u001b[0m\u001b[0m\n\u001b[0m",
      "\u001b[1;32mD:\\Anaconda3\\lib\\site-packages\\pandas\\core\\frame.py\u001b[0m in \u001b[0;36m__getitem__\u001b[1;34m(self, key)\u001b[0m\n\u001b[0;32m   3456\u001b[0m             \u001b[1;32mif\u001b[0m \u001b[0mself\u001b[0m\u001b[1;33m.\u001b[0m\u001b[0mcolumns\u001b[0m\u001b[1;33m.\u001b[0m\u001b[0mnlevels\u001b[0m \u001b[1;33m>\u001b[0m \u001b[1;36m1\u001b[0m\u001b[1;33m:\u001b[0m\u001b[1;33m\u001b[0m\u001b[1;33m\u001b[0m\u001b[0m\n\u001b[0;32m   3457\u001b[0m                 \u001b[1;32mreturn\u001b[0m \u001b[0mself\u001b[0m\u001b[1;33m.\u001b[0m\u001b[0m_getitem_multilevel\u001b[0m\u001b[1;33m(\u001b[0m\u001b[0mkey\u001b[0m\u001b[1;33m)\u001b[0m\u001b[1;33m\u001b[0m\u001b[1;33m\u001b[0m\u001b[0m\n\u001b[1;32m-> 3458\u001b[1;33m             \u001b[0mindexer\u001b[0m \u001b[1;33m=\u001b[0m \u001b[0mself\u001b[0m\u001b[1;33m.\u001b[0m\u001b[0mcolumns\u001b[0m\u001b[1;33m.\u001b[0m\u001b[0mget_loc\u001b[0m\u001b[1;33m(\u001b[0m\u001b[0mkey\u001b[0m\u001b[1;33m)\u001b[0m\u001b[1;33m\u001b[0m\u001b[1;33m\u001b[0m\u001b[0m\n\u001b[0m\u001b[0;32m   3459\u001b[0m             \u001b[1;32mif\u001b[0m \u001b[0mis_integer\u001b[0m\u001b[1;33m(\u001b[0m\u001b[0mindexer\u001b[0m\u001b[1;33m)\u001b[0m\u001b[1;33m:\u001b[0m\u001b[1;33m\u001b[0m\u001b[1;33m\u001b[0m\u001b[0m\n\u001b[0;32m   3460\u001b[0m                 \u001b[0mindexer\u001b[0m \u001b[1;33m=\u001b[0m \u001b[1;33m[\u001b[0m\u001b[0mindexer\u001b[0m\u001b[1;33m]\u001b[0m\u001b[1;33m\u001b[0m\u001b[1;33m\u001b[0m\u001b[0m\n",
      "\u001b[1;32mD:\\Anaconda3\\lib\\site-packages\\pandas\\core\\indexes\\base.py\u001b[0m in \u001b[0;36mget_loc\u001b[1;34m(self, key, method, tolerance)\u001b[0m\n\u001b[0;32m   3361\u001b[0m                 \u001b[1;32mreturn\u001b[0m \u001b[0mself\u001b[0m\u001b[1;33m.\u001b[0m\u001b[0m_engine\u001b[0m\u001b[1;33m.\u001b[0m\u001b[0mget_loc\u001b[0m\u001b[1;33m(\u001b[0m\u001b[0mcasted_key\u001b[0m\u001b[1;33m)\u001b[0m\u001b[1;33m\u001b[0m\u001b[1;33m\u001b[0m\u001b[0m\n\u001b[0;32m   3362\u001b[0m             \u001b[1;32mexcept\u001b[0m \u001b[0mKeyError\u001b[0m \u001b[1;32mas\u001b[0m \u001b[0merr\u001b[0m\u001b[1;33m:\u001b[0m\u001b[1;33m\u001b[0m\u001b[1;33m\u001b[0m\u001b[0m\n\u001b[1;32m-> 3363\u001b[1;33m                 \u001b[1;32mraise\u001b[0m \u001b[0mKeyError\u001b[0m\u001b[1;33m(\u001b[0m\u001b[0mkey\u001b[0m\u001b[1;33m)\u001b[0m \u001b[1;32mfrom\u001b[0m \u001b[0merr\u001b[0m\u001b[1;33m\u001b[0m\u001b[1;33m\u001b[0m\u001b[0m\n\u001b[0m\u001b[0;32m   3364\u001b[0m \u001b[1;33m\u001b[0m\u001b[0m\n\u001b[0;32m   3365\u001b[0m         \u001b[1;32mif\u001b[0m \u001b[0mis_scalar\u001b[0m\u001b[1;33m(\u001b[0m\u001b[0mkey\u001b[0m\u001b[1;33m)\u001b[0m \u001b[1;32mand\u001b[0m \u001b[0misna\u001b[0m\u001b[1;33m(\u001b[0m\u001b[0mkey\u001b[0m\u001b[1;33m)\u001b[0m \u001b[1;32mand\u001b[0m \u001b[1;32mnot\u001b[0m \u001b[0mself\u001b[0m\u001b[1;33m.\u001b[0m\u001b[0mhasnans\u001b[0m\u001b[1;33m:\u001b[0m\u001b[1;33m\u001b[0m\u001b[1;33m\u001b[0m\u001b[0m\n",
      "\u001b[1;31mKeyError\u001b[0m: ('item_price', 'ord_qty')"
     ]
    }
   ],
   "source": [
    "df[('item_price','ord_qty')].describe()"
   ]
  },
  {
   "cell_type": "markdown",
   "id": "8c7356f1",
   "metadata": {},
   "source": [
    "### 做一个价格和交易量的线性回归"
   ]
  },
  {
   "cell_type": "code",
   "execution_count": null,
   "id": "f3459348",
   "metadata": {},
   "outputs": [],
   "source": []
  },
  {
   "cell_type": "code",
   "execution_count": null,
   "id": "149bf01d",
   "metadata": {},
   "outputs": [],
   "source": []
  },
  {
   "cell_type": "code",
   "execution_count": null,
   "id": "b8e17e72",
   "metadata": {},
   "outputs": [],
   "source": []
  },
  {
   "cell_type": "markdown",
   "id": "8c21b918",
   "metadata": {},
   "source": [
    "## —————交易价格和交易量的关系——————"
   ]
  },
  {
   "cell_type": "markdown",
   "id": "61d82a37",
   "metadata": {},
   "source": []
  },
  {
   "cell_type": "markdown",
   "id": "4dcc6cdf",
   "metadata": {},
   "source": []
  },
  {
   "cell_type": "markdown",
   "id": "7cebfa45",
   "metadata": {},
   "source": []
  },
  {
   "cell_type": "markdown",
   "id": "c898dc5b",
   "metadata": {},
   "source": [
    "## ————地区和交易方式的关系—————"
   ]
  },
  {
   "cell_type": "code",
   "execution_count": null,
   "id": "75321279",
   "metadata": {},
   "outputs": [],
   "source": []
  },
  {
   "cell_type": "code",
   "execution_count": null,
   "id": "738b9e98",
   "metadata": {},
   "outputs": [],
   "source": []
  },
  {
   "cell_type": "code",
   "execution_count": null,
   "id": "d11c0d25",
   "metadata": {},
   "outputs": [],
   "source": []
  },
  {
   "cell_type": "markdown",
   "id": "6a894127",
   "metadata": {},
   "source": [
    "## ————商品大类和交易方式的关系————"
   ]
  },
  {
   "cell_type": "code",
   "execution_count": null,
   "id": "482bbba0",
   "metadata": {},
   "outputs": [],
   "source": []
  },
  {
   "cell_type": "code",
   "execution_count": null,
   "id": "6d7fe51c",
   "metadata": {},
   "outputs": [],
   "source": []
  },
  {
   "cell_type": "code",
   "execution_count": null,
   "id": "8d91d35a",
   "metadata": {},
   "outputs": [],
   "source": []
  }
 ],
 "metadata": {
  "kernelspec": {
   "display_name": "Python 3 (ipykernel)",
   "language": "python",
   "name": "python3"
  },
  "language_info": {
   "codemirror_mode": {
    "name": "ipython",
    "version": 3
   },
   "file_extension": ".py",
   "mimetype": "text/x-python",
   "name": "python",
   "nbconvert_exporter": "python",
   "pygments_lexer": "ipython3",
   "version": "3.10.9"
  }
 },
 "nbformat": 4,
 "nbformat_minor": 5
}
